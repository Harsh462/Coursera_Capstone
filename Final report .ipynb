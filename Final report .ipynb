{
 "cells": [
  {
   "cell_type": "markdown",
   "metadata": {
    "collapsed": true
   },
   "source": [
    "## INTRODUCTION\n",
    "Basically , i'll be going to look for the most dense city with pizza restaurent \n",
    "So for that i am going to comapre five cities namely Newyork,Chicago ,San Francisco,Jersey city,Boston .\n",
    "This will going to help tourist to easily look for the hotel in the neighbourhood with more no of pizza restaurent .\n"
   ]
  },
  {
   "cell_type": "markdown",
   "metadata": {},
   "source": [
    "## DATA SELECTION\n",
    "To work with it , i am going to take help from Foursquare API which will provide me all the venues around different cities \n",
    "### what is foursquare API \n",
    "Foursquare is a social location service that allows users to explore the world around them. Users can download the Foursquare application to their iPhone, Blackberry, or Android phone and sign up for free, then connect their Foursquare accounts to their other social media accounts."
   ]
  },
  {
   "cell_type": "markdown",
   "metadata": {},
   "source": [
    "## Methodology\n",
    "FIRSTLY, i will have to extract some columns like Name,address,long,lat \n",
    "Then, i am going to create maps of these cities with the help of Folium package of python and try to collect  the total no of pizza places  in every city and then i'll look to the most dense city for pizza place.\n",
    "\n",
    "After that, I am going to take MEAN of all the pizza places and point to one place where one can try to look for accomdation so that every pizza place iis near to him /her .\n"
   ]
  },
  {
   "cell_type": "markdown",
   "metadata": {},
   "source": [
    "## Results\n",
    " We can see NY has most dense pizza restaurent with mean neighbourhood of EAST 20th STREET\n",
    "One more conclusion we can make that a tourist can look for the hotel near Jearsey city also as we can see it is also having very good density of pizza restaurent and it is also very near to NY ,which could be attraction to tourists¶"
   ]
  },
  {
   "cell_type": "markdown",
   "metadata": {},
   "source": [
    "## conclusion\n",
    "I worked on looking for the pizza places ,one can do with different cuisine restaurent in these cities or one can compare the most likely restaurent in every city  "
   ]
  },
  {
   "cell_type": "code",
   "execution_count": null,
   "metadata": {},
   "outputs": [],
   "source": []
  }
 ],
 "metadata": {
  "kernelspec": {
   "display_name": "Python 3.6",
   "language": "python",
   "name": "python3"
  },
  "language_info": {
   "codemirror_mode": {
    "name": "ipython",
    "version": 3
   },
   "file_extension": ".py",
   "mimetype": "text/x-python",
   "name": "python",
   "nbconvert_exporter": "python",
   "pygments_lexer": "ipython3",
   "version": "3.6.9"
  }
 },
 "nbformat": 4,
 "nbformat_minor": 1
}
